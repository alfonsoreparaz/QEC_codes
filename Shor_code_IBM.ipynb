{
 "cells": [
  {
   "cell_type": "code",
   "execution_count": null,
   "id": "94a728a7",
   "metadata": {},
   "outputs": [],
   "source": [
    "import qiskit\n",
    "from qiskit import QuantumCircuit, ClassicalRegister, QuantumRegister, transpile\n",
    "from qiskit.primitives import Sampler\n",
    "from qiskit.visualization import plot_histogram, array_to_latex,plot_distribution\n",
    "from qiskit.circuit.library import Initialize\n",
    "import qiskit_aer\n",
    "from qiskit_aer import AerSimulator\n",
    "from qiskit_aer.noise import NoiseModel,pauli_error\n",
    "from itertools import combinations\n",
    "import matplotlib.pyplot as plt\n",
    "import numpy as np\n",
    "from qiskit.quantum_info import Statevector, state_fidelity, partial_trace, DensityMatrix, random_statevector\n",
    "import warnings\n",
    "warnings.filterwarnings(\"ignore\", category=DeprecationWarning)\n",
    "from IPython.display import display\n",
    "simulator_aer=AerSimulator()\n",
    "from qiskit_ibm_runtime import QiskitRuntimeService, SamplerV2\n",
    "from qiskit.transpiler.preset_passmanagers import generate_preset_pass_manager\n",
    "from collections import Counter\n",
    "from qiskit.visualization import plot_distribution"
   ]
  },
  {
   "cell_type": "markdown",
   "id": "001eaf89",
   "metadata": {},
   "source": [
    "This code implements the Shor code to run on IBM Quantum "
   ]
  },
  {
   "cell_type": "code",
   "execution_count": null,
   "id": "d72eb8cb",
   "metadata": {},
   "outputs": [],
   "source": [
    "def shor_error_correction(psi,d=False, x_a=False,x_b=False,x_c=False,z_a=False):\n",
    "    qr = QuantumRegister(9,\"q\")\n",
    "    qr_b=QuantumRegister(6, 'q_b')\n",
    "    qr_p=QuantumRegister(2, 'q_p')\n",
    "    cr_main = ClassicalRegister(1, \"c_main\")  # For the first qubit\n",
    "    cr_b1 = ClassicalRegister(2, \"c_b1\")\n",
    "    cr_b2 = ClassicalRegister(2, \"c_b2\")\n",
    "    cr_b3 = ClassicalRegister(2, \"c_b3\")\n",
    " \n",
    "    cr_p= ClassicalRegister(2, \"c_p\")\n",
    "    qc = QuantumCircuit(qr,qr_b,qr_p,cr_b1,cr_b2,cr_b3,cr_p,cr_main)\n",
    "\n",
    "    # Initialize the state\n",
    "    init_gate = Initialize(psi)\n",
    "    qc.append(init_gate, [qr[0]])\n",
    "    qc.barrier()\n",
    "\n",
    "    # --- ENCODING ---\n",
    "    qc.cx(qr[0],qr[3])\n",
    "    qc.cx(qr[0],qr[6])\n",
    "\n",
    "    qc.h(qr[0])\n",
    "    qc.h(qr[3])\n",
    "    qc.h(qr[6])\n",
    "\n",
    "    qc.cx(qr[0],qr[1])\n",
    "    qc.cx(qr[0],qr[2])\n",
    "\n",
    "    qc.cx(qr[3],qr[4])\n",
    "    qc.cx(qr[3],qr[5])\n",
    "\n",
    "    qc.cx(qr[6],qr[7])\n",
    "    qc.cx(qr[6],qr[8])\n",
    "\n",
    "    #errors here\n",
    "    if x_a:\n",
    "        qc.x(qr[0])\n",
    "    if x_b:\n",
    "        qc.x(qr[1])\n",
    "    if x_c:\n",
    "        qc.x(qr[2]) \n",
    "\n",
    "    qc.barrier()\n",
    "\n",
    "    #----BITFLIP CORRECTION----\n",
    "    #Measure parities of the three triplets q0q1q2 using qb0 and qb1, q3q4q5 using qb2 and qb3, q6q7q8 using qb4 and qb5. Then, apply the conditional x gates based on the outcome\n",
    "\n",
    "    if d:\n",
    "        #first triplet\n",
    "        qc.cx(qr[0],qr_b[0])\n",
    "        qc.cx(qr[1],qr_b[0])\n",
    "        qc.cx(qr[1],qr_b[1])\n",
    "        qc.cx(qr[2],qr_b[1])\n",
    "        qc.measure(qr_b[0], cr_b1[0])\n",
    "        qc.measure(qr_b[1], cr_b1[1])\n",
    "        qc.x(qr[0]).c_if(cr_b1, 1)\n",
    "        qc.x(qr[1]).c_if(cr_b1, 3)\n",
    "        qc.x(qr[2]).c_if(cr_b1, 2)\n",
    "        qc.barrier()\n",
    "        #second triplet\n",
    "        qc.cx(qr[3],qr_b[2])\n",
    "        qc.cx(qr[4],qr_b[2])\n",
    "        qc.cx(qr[4],qr_b[3])\n",
    "        qc.cx(qr[5],qr_b[3])\n",
    "        qc.measure(qr_b[2], cr_b2[0])\n",
    "        qc.measure(qr_b[3], cr_b2[1])\n",
    "        qc.x(qr[3]).c_if(cr_b2, 1)\n",
    "        qc.x(qr[4]).c_if(cr_b2, 3)\n",
    "        qc.x(qr[5]).c_if(cr_b2, 2)\n",
    "        qc.barrier()\n",
    "\n",
    "        #third triplet\n",
    "        qc.cx(qr[6],qr_b[4])\n",
    "        qc.cx(qr[7],qr_b[4])\n",
    "        qc.cx(qr[7],qr_b[5])\n",
    "        qc.cx(qr[8],qr_b[5])\n",
    "        qc.measure(qr_b[4], cr_b3[0])\n",
    "        qc.measure(qr_b[5], cr_b3[1])\n",
    "        qc.x(qr[6]).c_if(cr_b3, 1)\n",
    "        qc.x(qr[7]).c_if(cr_b3, 3)\n",
    "        qc.x(qr[8]).c_if(cr_b3, 2)\n",
    "        qc.barrier()\n",
    "\n",
    "    #Z error\n",
    "    if z_a:\n",
    "        qc.z(qr[0])\n",
    "\n",
    "    #Partially uncode qubit\n",
    "    qc.cx(qr[0],qr[1])\n",
    "    qc.cx(qr[0],qr[2])\n",
    "\n",
    "    qc.cx(qr[3],qr[4])\n",
    "    qc.cx(qr[3],qr[5])\n",
    "\n",
    "    qc.cx(qr[6],qr[7])\n",
    "    qc.cx(qr[6],qr[8])\n",
    "\n",
    "    qc.h(qr[0])\n",
    "    qc.h(qr[3])\n",
    "    qc.h(qr[6])\n",
    "\n",
    "    #----PHASEFLIP CORRECTION----\n",
    "\n",
    "    if d:\n",
    "\n",
    "        #Compute phase parities and store them in the ancillas\n",
    "        qc.barrier()\n",
    "\n",
    "        qc.cx(qr[0],qr_p[0])\n",
    "        qc.cx(qr[3],qr_p[0])\n",
    "        qc.cx(qr[3],qr_p[1])\n",
    "        qc.cx(qr[6],qr_p[1])\n",
    "        qc.measure(qr_p[0], cr_p[0])\n",
    "        qc.measure(qr_p[1], cr_p[1])\n",
    "        qc.h(qr[0])\n",
    "        qc.h(qr[3])\n",
    "        qc.h(qr[6])\n",
    "        qc.z(qr[0]).c_if(cr_p, 1)\n",
    "        qc.z(qr[3]).c_if(cr_p, 3)\n",
    "        qc.z(qr[6]).c_if(cr_p, 2)\n",
    "        qc.h(qr[0])\n",
    "        qc.h(qr[3])\n",
    "        qc.h(qr[6])\n",
    "\n",
    "    qc.barrier()\n",
    "\n",
    "    #Reencode qubit\n",
    "\n",
    "    qc.h(qr[0])\n",
    "    qc.h(qr[3])\n",
    "    qc.h(qr[6])\n",
    "\n",
    "    qc.cx(qr[0],qr[1])\n",
    "    qc.cx(qr[0],qr[2])\n",
    "\n",
    "    qc.cx(qr[3],qr[4])\n",
    "    qc.cx(qr[3],qr[5])\n",
    "\n",
    "    qc.cx(qr[6],qr[7])\n",
    "    qc.cx(qr[6],qr[8])\n",
    "\n",
    "    # --- DECODING ---\n",
    "    qc.barrier()\n",
    "\n",
    "    qc.cx(qr[0],qr[1])\n",
    "    qc.cx(qr[0],qr[2])\n",
    "\n",
    "    qc.cx(qr[3],qr[4])\n",
    "    qc.cx(qr[3],qr[5])\n",
    "\n",
    "    qc.cx(qr[6],qr[7])\n",
    "    qc.cx(qr[6],qr[8])\n",
    "\n",
    "    qc.h(qr[0])\n",
    "    qc.h(qr[3])\n",
    "    qc.h(qr[6])\n",
    "\n",
    "    qc.cx(qr[0],qr[3])\n",
    "    qc.cx(qr[0],qr[6])\n",
    "\n",
    "\n",
    "    # Uncompute initialization\n",
    "    qc.append(init_gate.gates_to_uncompute(), [qr[0]])\n",
    "    qc.measure(qr[0], cr_main[0])\n",
    "\n",
    "    #display(qc.draw(\"mpl\")) \n",
    "\n",
    "    return qc"
   ]
  },
  {
   "cell_type": "markdown",
   "id": "5f9ddf8f",
   "metadata": {},
   "source": [
    "Start session and choose IBM computer, define transpilation"
   ]
  },
  {
   "cell_type": "code",
   "execution_count": null,
   "id": "37fa81d2",
   "metadata": {},
   "outputs": [],
   "source": [
    "#create session\n",
    "QiskitRuntimeService.save_account(channel='ibm_quantum', instance='ibm-q/open/main', token='51ad803f351a05ad2639020de513f4d227f2ddc1cd58e253f7bb66ccf7dba6a546ec3c03a789d67aecd048774bb07bad64db1ea32e050844b427eebdda5c5aec', overwrite=True)\n",
    "#start session as\n",
    "service=QiskitRuntimeService()\n",
    "# check the available devices right now:\n",
    "print(service.backends())\n",
    "# check the available devices right now and choose manually:\n",
    "print(service.backends())\n",
    "backend = service.backend(\"ibm_brisbane\")\n",
    "print(backend)\n",
    "#transpilation for real quantum devices is a bit different (change of versions...)\n",
    "pm=generate_preset_pass_manager(target=backend.target)"
   ]
  },
  {
   "cell_type": "markdown",
   "id": "14f022ef",
   "metadata": {},
   "source": [
    "Study of performance of 10 different states first for correction applied:"
   ]
  },
  {
   "cell_type": "code",
   "execution_count": 121,
   "id": "70a0bb11",
   "metadata": {},
   "outputs": [
    {
     "name": "stderr",
     "output_type": "stream",
     "text": [
      "c:\\Users\\alfon\\miniconda3\\envs\\qiskit-env-1\\lib\\site-packages\\qiskit_ibm_runtime\\qiskit_runtime_service.py:857: UserWarning: IBM Quantum Platform is moving, and this version will be sunset on July 1. To get started on the new platform, read the migration guide at https://docs.quantum.ibm.com/migration-guides/classic-iqp-to-cloud-iqp\n",
      "  warnings.warn(warning_message)\n"
     ]
    }
   ],
   "source": [
    "n_states=10\n",
    "psi_list = [random_statevector(2) for _ in range(n_states)]\n",
    "circuits = []\n",
    "tags=[]\n",
    "for psi in psi_list:\n",
    "    qc = shor_error_correction(psi, d=True) \n",
    "    circuits.append(pm.run(qc))\n",
    "\n",
    "sampler = SamplerV2(mode=backend)\n",
    "job = sampler.run(circuits, shots=1024)\n",
    "result = job.result()\n"
   ]
  },
  {
   "cell_type": "markdown",
   "id": "db12ba50",
   "metadata": {},
   "source": [
    "Tells you when the result is ready"
   ]
  },
  {
   "cell_type": "code",
   "execution_count": 122,
   "id": "e7b9cfd5",
   "metadata": {},
   "outputs": [
    {
     "data": {
      "text/plain": [
       "'DONE'"
      ]
     },
     "execution_count": 122,
     "metadata": {},
     "output_type": "execute_result"
    }
   ],
   "source": [
    "job.status()"
   ]
  },
  {
   "cell_type": "markdown",
   "id": "47e24a59",
   "metadata": {},
   "source": [
    "Given the previous result, this code s"
   ]
  },
  {
   "cell_type": "code",
   "execution_count": null,
   "id": "2d7e513c",
   "metadata": {},
   "outputs": [
    {
     "name": "stdout",
     "output_type": "stream",
     "text": [
      "\n",
      " Average Fidelity for correction: 0.4785\n"
     ]
    }
   ],
   "source": [
    "fidelities = []\n",
    "for idx in range(n_states):\n",
    "    bitarray = result[idx].data.c_main \n",
    "    raw_bytes = bitarray._array # Obtain results from exact state by extracting bytes\n",
    "    num_bits = bitarray.num_bits  # Obtain significative bits per byte\n",
    "    bit_strings = [\n",
    "        format(byte[0], f\"0{num_bits}b\")  # '0' o '1'\n",
    "        for byte in raw_bytes\n",
    "    ]\n",
    "    counts = Counter(bit_strings) #Counts each time you get 0 or 1\n",
    "    p0 = counts.get(\"0\", 0) / 1024\n",
    "    fidelities.append(p0)\n",
    "\n",
    "average_fidelity = sum(fidelities) / len(fidelities)\n",
    "print(f\"\\n Average fidelity for correction: {average_fidelity:.4f}\")"
   ]
  },
  {
   "cell_type": "markdown",
   "id": "bd4e7f0a",
   "metadata": {},
   "source": [
    "Do the same for no correction case"
   ]
  },
  {
   "cell_type": "code",
   "execution_count": 130,
   "id": "29002c9f",
   "metadata": {},
   "outputs": [
    {
     "name": "stderr",
     "output_type": "stream",
     "text": [
      "c:\\Users\\alfon\\miniconda3\\envs\\qiskit-env-1\\lib\\site-packages\\qiskit_ibm_runtime\\qiskit_runtime_service.py:857: UserWarning: IBM Quantum Platform is moving, and this version will be sunset on July 1. To get started on the new platform, read the migration guide at https://docs.quantum.ibm.com/migration-guides/classic-iqp-to-cloud-iqp\n",
      "  warnings.warn(warning_message)\n"
     ]
    }
   ],
   "source": [
    "service=QiskitRuntimeService()\n",
    "backend = service.backend(\"ibm_brisbane\")\n",
    "circuits = []\n",
    "tags=[]\n",
    "for psi in psi_list:\n",
    "    qc = shor_error_correction(psi, d=False) \n",
    "    circuits.append(pm.run(qc))\n",
    "\n",
    "sampler = SamplerV2(mode=backend)\n",
    "job_1 = sampler.run(circuits, shots=1024)\n",
    "result_1 = job_1.result()\n"
   ]
  },
  {
   "cell_type": "code",
   "execution_count": 115,
   "id": "6fa49a64",
   "metadata": {},
   "outputs": [
    {
     "data": {
      "text/plain": [
       "'DONE'"
      ]
     },
     "execution_count": 115,
     "metadata": {},
     "output_type": "execute_result"
    }
   ],
   "source": [
    "job.status()"
   ]
  },
  {
   "cell_type": "code",
   "execution_count": null,
   "id": "514cb390",
   "metadata": {},
   "outputs": [
    {
     "name": "stdout",
     "output_type": "stream",
     "text": [
      "\n",
      " Average Fidelity for no correction: 0.5816\n"
     ]
    }
   ],
   "source": [
    "fidelities_1 = []\n",
    "for idx in range(n_states):\n",
    "    bitarray = result_1[idx].data.c_main\n",
    "    raw_bytes = bitarray._array\n",
    "    num_bits = bitarray.num_bits        \n",
    "    bit_strings = [\n",
    "        format(byte[0], f\"0{num_bits}b\") \n",
    "        for byte in raw_bytes\n",
    "    ]\n",
    "    counts = Counter(bit_strings)\n",
    "    p0 = counts.get(\"0\", 0) / 1024\n",
    "    fidelities_1.append(p0)\n",
    "\n",
    "average_fidelity_1 = sum(fidelities_1) / len(fidelities_1)\n",
    "print(f\"\\n Average fidelity for no correction: {average_fidelity_1:.4f}\")\n"
   ]
  },
  {
   "cell_type": "markdown",
   "id": "e5df338e",
   "metadata": {},
   "source": [
    "Final plot for comparison"
   ]
  },
  {
   "cell_type": "code",
   "execution_count": null,
   "id": "8cfd2b6c",
   "metadata": {},
   "outputs": [
    {
     "data": {
      "text/plain": [
       "(0.0, 1.0)"
      ]
     },
     "execution_count": 132,
     "metadata": {},
     "output_type": "execute_result"
    },
    {
     "data": {
      "image/png": "[encoded data removed]",
      "text/plain": [
       "<Figure size 640x480 with 1 Axes>"
      ]
     },
     "metadata": {},
     "output_type": "display_data"
    }
   ],
   "source": [
    "labels = ['No correction', 'Correction']\n",
    "values = [average_fidelity_1, average_fidelity]\n",
    "\n",
    "plt.bar(labels, values, color=['red', 'green'])\n",
    "\n",
    "plt.ylabel('Success Probability', fontsize=15)\n",
    "plt.xticks(fontsize=15)\n",
    "\n",
    "plt.yticks(fontsize=12)\n",
    "plt.ylim(0, 1)  "
   ]
  }
 ],
 "metadata": {
  "kernelspec": {
   "display_name": "qiskit-env-1",
   "language": "python",
   "name": "python3"
  },
  "language_info": {
   "codemirror_mode": {
    "name": "ipython",
    "version": 3
   },
   "file_extension": ".py",
   "mimetype": "text/x-python",
   "name": "python",
   "nbconvert_exporter": "python",
   "pygments_lexer": "ipython3",
   "version": "3.10.16"
  }
 },
 "nbformat": 4,
 "nbformat_minor": 5
}
